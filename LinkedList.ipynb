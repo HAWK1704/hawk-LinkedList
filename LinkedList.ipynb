{
 "cells": [
  {
   "cell_type": "code",
   "execution_count": 1,
   "id": "6edc4f9f",
   "metadata": {},
   "outputs": [],
   "source": [
    "class node:\n",
    "    def __init__(self,value):\n",
    "        self.data=value\n",
    "        self.next=None"
   ]
  },
  {
   "cell_type": "code",
   "execution_count": 77,
   "id": "0d4326ec",
   "metadata": {},
   "outputs": [],
   "source": [
    "class LinkedList:\n",
    "    def __init__(self):\n",
    "        self.head=None\n",
    "        self.n=0\n",
    "    def __len__(self):\n",
    "        return self.n\n",
    "    def insert_head(self,value):\n",
    "        new_node=node(value)\n",
    "        new_node.next=self.head\n",
    "        self.head=new_node\n",
    "        self.n+=1\n",
    "    def __str__(self):\n",
    "        curr=self.head\n",
    "        result=''\n",
    "        while curr!=None:\n",
    "            result=result+str(curr.data)+\"->\"\n",
    "            curr=curr.next\n",
    "        return result[:-2]\n",
    "    def append(self,value):\n",
    "        new_node=node(value)\n",
    "        if self.head==None:\n",
    "            self.head=new_node\n",
    "            self.n+=1\n",
    "            return\n",
    "        curr=self.head\n",
    "        while curr.next!=None:\n",
    "            curr=curr.next\n",
    "        curr.next=new_node\n",
    "        self.n+=1\n",
    "    def insert_after(self,after,value):\n",
    "        new_node=node(value)\n",
    "        curr=self.head\n",
    "        while curr!=None:\n",
    "            if curr.data==after:\n",
    "                break\n",
    "            curr=curr.next\n",
    "        if curr!=None:\n",
    "            new_node.next=curr.next\n",
    "            curr.next=new_node\n",
    "            self.n+=1\n",
    "        else:return 'Item Not Found'\n",
    "    def clear(self):\n",
    "        self.head=None\n",
    "        self.n=0\n",
    "    def delete_head(self):\n",
    "        if self.head== None:\n",
    "            return \"Empty List\"\n",
    "        self.head=self.head.next\n",
    "        self.n-=1\n",
    "    def pop(self):\n",
    "        curr=self.head\n",
    "        if self.n<=1:\n",
    "            return self.delete_head()\n",
    "        while curr.next.next!=None:\n",
    "            curr=curr.next\n",
    "        curr.next=None\n",
    "        self.n-=1\n",
    "    def remove(self,value):\n",
    "        if self.head==None:\n",
    "            return 'Empty List'\n",
    "        if self.head.data==value:\n",
    "            return self.delete_head()\n",
    "        curr=self.head\n",
    "        while curr.next!=None:\n",
    "            if curr.next.data==value:\n",
    "                break\n",
    "            curr=curr.next\n",
    "        if curr.next==None:\n",
    "            return 'Not Found'\n",
    "        else:\n",
    "            curr.next=curr.next.next\n",
    "        self.n-=1\n",
    "    def search(self,item):\n",
    "        curr=self.head\n",
    "        pos=0\n",
    "        while curr!=None:\n",
    "            if curr.data==item:\n",
    "                return pos\n",
    "            curr=curr.next\n",
    "            pos+=1\n",
    "        return 'Not Found'\n",
    "    def __getitem__(self,index):\n",
    "        curr=self.head\n",
    "        pos=0\n",
    "        while curr!=None:\n",
    "            if pos==index:\n",
    "                return curr.data\n",
    "            curr=curr.next\n",
    "            pos+=1\n",
    "        return 'IndexError'"
   ]
  },
  {
   "cell_type": "code",
   "execution_count": 73,
   "id": "a5648901",
   "metadata": {},
   "outputs": [],
   "source": [
    "L=LinkedList()"
   ]
  },
  {
   "cell_type": "code",
   "execution_count": 56,
   "id": "6f998616",
   "metadata": {},
   "outputs": [],
   "source": [
    "L.insert_head(1)\n",
    "L.insert_head(2)\n",
    "L.insert_head(3)\n",
    "L.insert_head(4)"
   ]
  },
  {
   "cell_type": "code",
   "execution_count": 64,
   "id": "0a709c77",
   "metadata": {},
   "outputs": [
    {
     "name": "stdout",
     "output_type": "stream",
     "text": [
      "\n"
     ]
    }
   ],
   "source": [
    "print(L)"
   ]
  },
  {
   "cell_type": "code",
   "execution_count": 74,
   "id": "90967e51",
   "metadata": {},
   "outputs": [
    {
     "data": {
      "text/plain": [
       "'Empty List'"
      ]
     },
     "execution_count": 74,
     "metadata": {},
     "output_type": "execute_result"
    }
   ],
   "source": [
    "L.remove(4)"
   ]
  }
 ],
 "metadata": {
  "kernelspec": {
   "display_name": "Python 3 (ipykernel)",
   "language": "python",
   "name": "python3"
  },
  "language_info": {
   "codemirror_mode": {
    "name": "ipython",
    "version": 3
   },
   "file_extension": ".py",
   "mimetype": "text/x-python",
   "name": "python",
   "nbconvert_exporter": "python",
   "pygments_lexer": "ipython3",
   "version": "3.9.13"
  }
 },
 "nbformat": 4,
 "nbformat_minor": 5
}
